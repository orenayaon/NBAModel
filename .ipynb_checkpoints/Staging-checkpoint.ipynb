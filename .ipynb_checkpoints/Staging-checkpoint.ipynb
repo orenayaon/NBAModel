{
  "cells": [
    {
      "metadata": {
        "trusted": true
      },
      "cell_type": "code",
      "source": "#Load Libraries\nfrom datetime import date\nimport pyodbc\nimport pandas as pd\nfrom pyspark.sql.functions import *\nfrom pyspark.sql.types import *\nfrom pyspark.sql import SQLContext\nfrom pyspark.context import SparkContext\nfrom pyspark.sql.session import SparkSession\nfrom sportsreference.nba.teams import Teams\nimport pandas.io.sql as psql",
      "execution_count": 14,
      "outputs": []
    },
    {
      "metadata": {
        "trusted": true
      },
      "cell_type": "code",
      "source": "#for development in azure notebooks (databricks uses spark behind the scenes and does not require this step)\nsc = SparkContext('local')\nspark = SparkSession(sc)",
      "execution_count": 4,
      "outputs": []
    },
    {
      "metadata": {
        "trusted": true
      },
      "cell_type": "code",
      "source": "#Create Dataframe\nDimTeam = pd.DataFrame()\n\n#Load Team name and Abbreviation into Dataframe\nfor x in range(2000,2020):\n    for team in Teams(x):\n      DimTeam = DimTeam.append({'Name':team.name,'Abbreviation':team.abbreviation},ignore_index='true')\n    x=x+1\n ",
      "execution_count": 5,
      "outputs": []
    },
    {
      "metadata": {
        "trusted": true
      },
      "cell_type": "code",
      "source": "#load into spark dataframe\nDimTeamSparkDF = spark.createDataFrame(DimTeam)\n#DimTeamSparkDF.createOrReplaceTempView(\"DimTeam\")\ncolumnsToHash = [x for x in DimTeamSparkDF.columns if str(x) not in ['Columns to ignore here']]\nDimTeamSparkDF = DimTeamSparkDF.withColumn(\"RowValueHash\", sha2(concat_ws(\"|\", *columnsToHash), 256))\nDimTeamSparkDF.createOrReplaceTempView(\"DimTeam\")",
      "execution_count": 6,
      "outputs": []
    },
    {
      "metadata": {
        "trusted": true,
        "scrolled": false
      },
      "cell_type": "code",
      "source": "#select * from df\nsqlQuery = 'Select distinct * \\\n            from DimTeam \\\n            Order By name desc' \nspark.sql(sqlQuery).show()",
      "execution_count": 9,
      "outputs": [
        {
          "output_type": "stream",
          "text": "+------------+--------------------+--------------------+\n|Abbreviation|                Name|        RowValueHash|\n+------------+--------------------+--------------------+\n|         WAS|  Washington Wizards|fe8c73e1572efec74...|\n|         VAN| Vancouver Grizzlies|65635413ec6148e75...|\n|         UTA|           Utah Jazz|68194e2106b1a90ad...|\n|         TOR|     Toronto Raptors|d8fe3a2f3f5b6f3f9...|\n|         SEA| Seattle SuperSonics|7b3b4262ea607f082...|\n|         SAS|   San Antonio Spurs|cfa7a0e82310cba17...|\n|         SAC|    Sacramento Kings|c36dff5da5b0244fe...|\n|         POR|Portland Trail Bl...|2ed836890bd3cfe85...|\n|         PHO|        Phoenix Suns|2e22976f658527526...|\n|         PHI|  Philadelphia 76ers|797c91749afd98acc...|\n|         ORL|       Orlando Magic|0e1b7d04d74fb7dd3...|\n|         OKC|Oklahoma City Thu...|0178a8324013b8c21...|\n|         NYK|     New York Knicks|068f773b51179cf47...|\n|         NOK|New Orleans/Oklah...|6b286487e33d5a2df...|\n|         NOP|New Orleans Pelicans|b6ad2f7c629853cbb...|\n|         NOH| New Orleans Hornets|9eb901c3dfd7c9397...|\n|         NJN|     New Jersey Nets|aa4126dd41f44c991...|\n|         MIN|Minnesota Timberw...|c16ae1ffc2912752a...|\n|         MIL|     Milwaukee Bucks|05721f3d61573a663...|\n|         MIA|          Miami Heat|6313cea0a810fb582...|\n+------------+--------------------+--------------------+\nonly showing top 20 rows\n\n",
          "name": "stdout"
        }
      ]
    },
    {
      "metadata": {
        "trusted": true
      },
      "cell_type": "code",
      "source": "#Connect to SQL Database\nserver = 'mintdatabase.database.windows.net' \ndatabase = 'NBADataMart' \nusername = 'oren' \npassword = 'Gpeqlx33j59o' \ncnxn = pyodbc.connect('DRIVER={ODBC Driver 17 for SQL Server};SERVER='+server+';DATABASE='+database+';UID='+username+';PWD='+ password)\ncursor = cnxn.cursor()\n\n#df = cursor.execute('Select * from DimTeam')\ncursor = cnxn.cursor()\nsql = \"SELECT * FROM DimTeam\"\n\ndf = psql.read_sql(sql, cnxn)\ncnxn.close()\n\n",
      "execution_count": 21,
      "outputs": []
    },
    {
      "metadata": {
        "trusted": true
      },
      "cell_type": "code",
      "source": "df",
      "execution_count": 24,
      "outputs": [
        {
          "output_type": "execute_result",
          "execution_count": 24,
          "data": {
            "text/html": "<div>\n<style scoped>\n    .dataframe tbody tr th:only-of-type {\n        vertical-align: middle;\n    }\n\n    .dataframe tbody tr th {\n        vertical-align: top;\n    }\n\n    .dataframe thead th {\n        text-align: right;\n    }\n</style>\n<table border=\"1\" class=\"dataframe\">\n  <thead>\n    <tr style=\"text-align: right;\">\n      <th></th>\n      <th>TeamKey</th>\n      <th>TeamAbbreviation</th>\n      <th>TeamName</th>\n      <th>RecordCreateDate</th>\n    </tr>\n  </thead>\n  <tbody>\n  </tbody>\n</table>\n</div>",
            "text/plain": "Empty DataFrame\nColumns: [TeamKey, TeamAbbreviation, TeamName, RecordCreateDate]\nIndex: []"
          },
          "metadata": {}
        }
      ]
    }
  ],
  "metadata": {
    "kernelspec": {
      "name": "python36",
      "display_name": "Python 3.6",
      "language": "python"
    }
  },
  "nbformat": 4,
  "nbformat_minor": 1
}