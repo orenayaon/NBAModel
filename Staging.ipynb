{
  "cells": [
    {
      "metadata": {
        "trusted": true
      },
      "cell_type": "code",
      "source": "#Install necessary packages\n!pip install sportsreference",
      "execution_count": null,
      "outputs": []
    },
    {
      "metadata": {
        "trusted": true
      },
      "cell_type": "code",
      "source": "#Load Libraries\nfrom datetime import date\nimport pyodbc\nimport pandas as pd\nfrom pandas import DataFrame\nfrom pyspark.sql.functions import *\nfrom pyspark.sql.types import *\nfrom pyspark.sql import SQLContext\nfrom pyspark.context import SparkContext\nfrom pyspark.sql.session import SparkSession\nfrom sportsreference.nba.teams import Teams\nimport pandas.io.sql as psql",
      "execution_count": 2,
      "outputs": []
    },
    {
      "metadata": {
        "trusted": true
      },
      "cell_type": "code",
      "source": "#for development in azure notebooks (databricks uses spark behind the scenes and does not require this step)\nsc = SparkContext('local')\nspark = SparkSession(sc)",
      "execution_count": 3,
      "outputs": []
    },
    {
      "metadata": {
        "trusted": true
      },
      "cell_type": "code",
      "source": "#Create Dataframe\nDimTeam = pd.DataFrame()\n\n#Load Team name and Abbreviation into Dataframe\nfor x in range(2000,2020):\n    for team in Teams(x):\n      DimTeam = DimTeam.append({'Name':team.name,'Abbreviation':team.abbreviation},ignore_index='true')\n    x=x+1",
      "execution_count": 4,
      "outputs": []
    },
    {
      "metadata": {
        "trusted": true
      },
      "cell_type": "code",
      "source": "#load into spark dataframe\nDimTeamSparkDF = pd.DataFrame(DimTeam)\n#columnsToHash = [x for x in DimTeamSparkDF.columns if str(x) not in ['Columns to ignore here']]\n#DimTeamSparkDF = DimTeamSparkDF.withColumn(\"RowValueHash\", sha2(concat_ws(\"|\", *columnsToHash), 256))\nDimTeamSparkDF = DataFrame.drop_duplicates(DimTeamSparkDF)\n#DimTeamSparkDF.createOrReplaceTempView(\"DimTeam\")",
      "execution_count": 5,
      "outputs": []
    },
    {
      "metadata": {
        "trusted": true
      },
      "cell_type": "code",
      "source": "#Connect to SQL Database\nserver = 'mintdatabase.database.windows.net' \ndatabase = 'NBADataMart' \nusername = 'oren' \npassword = '' \ncnxn = pyodbc.connect('DRIVER={ODBC Driver 17 for SQL Server};SERVER='+server+';DATABASE='+database+';UID='+username+';PWD='+ password)\ncursor = cnxn.cursor()",
      "execution_count": 7,
      "outputs": []
    },
    {
      "metadata": {
        "trusted": true
      },
      "cell_type": "code",
      "source": "cursor.execute(\"DROP TABLE IF EXISTS tempdb.dbo.#TempTable; Create Table #TempTable(Abbreviation varchar(100),Name varchar(100))\")\nfor index,row in DimTeamSparkDF.iterrows():\n    cursor.execute(\"Insert INTO #TempTable([Abbreviation],[Name]) values(?,?)\", row['Abbreviation'],row['Name'])\n\ncursor.execute(\"Merge dbo.dimTeam T USING #tempTable S ON (T.Name = S.Name and T.Abbreviation = S.Abbreviation) WHEN NOT MATCHED BY TARGET THEN INSERT (Name, Abbreviation) VALUES (S.Name, S.Abbreviation);\")\ncnxn.commit()\n",
      "execution_count": 11,
      "outputs": []
    }
  ],
  "metadata": {
    "kernelspec": {
      "name": "python36",
      "display_name": "Python 3.6",
      "language": "python"
    },
    "language_info": {
      "mimetype": "text/x-python",
      "nbconvert_exporter": "python",
      "name": "python",
      "pygments_lexer": "ipython3",
      "version": "3.6.6",
      "file_extension": ".py",
      "codemirror_mode": {
        "version": 3,
        "name": "ipython"
      }
    }
  },
  "nbformat": 4,
  "nbformat_minor": 2
}