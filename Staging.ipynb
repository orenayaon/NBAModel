{
  "cells": [
    {
      "metadata": {
        "trusted": true
      },
      "cell_type": "code",
      "source": "#Load Libraries\nfrom datetime import date\nfrom sportsreference.nba.teams import Teams\nimport pyodbc\nimport pandas as pd\nfrom pyspark.sql.functions import *\nfrom pyspark.sql.types import *\nfrom pyspark.sql import SQLContext\nfrom pyspark.context import SparkContext\nfrom pyspark.sql.session import SparkSession",
      "execution_count": 7,
      "outputs": []
    },
    {
      "metadata": {
        "trusted": true
      },
      "cell_type": "code",
      "source": "#for development in azure notebooks (databricks uses spark behind the scenes and does not require this step)\nsc = SparkContext('local')\nspark = SparkSession(sc)",
      "execution_count": 8,
      "outputs": []
    },
    {
      "metadata": {
        "trusted": true
      },
      "cell_type": "code",
      "source": "#Create Dataframe\nDimTeam = pd.DataFrame()\n\n#Load Team name and Abbreviation into Dataframe\nfor x in range(2000,2020):\n    for team in Teams(x):\n      DimTeam = DimTeam.append({'Name':team.name,'Abbreviation':team.abbreviation},ignore_index='true')\n    x=x+1\n ",
      "execution_count": 9,
      "outputs": []
    },
    {
      "metadata": {
        "trusted": true
      },
      "cell_type": "code",
      "source": "#load into spark dataframe\nDimTeamSparkDF = spark.createDataFrame(DimTeam)\n#DimTeamSparkDF.createOrReplaceTempView(\"DimTeam\")\ncolumnsToHash = [x for x in DimTeamSparkDF.columns if str(x) not in ['Abbreviation']]\nDimTeamSparkDF = DimTeamSparkDF.withColumn(\"RowValueHash\", sha2(concat_ws(\"|\", *columnsToHash), 256))\nDimTeamSparkDF.createOrReplaceTempView(\"DimTeam\")",
      "execution_count": 10,
      "outputs": []
    },
    {
      "metadata": {
        "trusted": true,
        "scrolled": true
      },
      "cell_type": "code",
      "source": "#select * from df\nspark.sql(\n    'Select distinct * \\\n    from DimTeam \\\n    Order By name desc' \n    ).show()",
      "execution_count": 11,
      "outputs": [
        {
          "output_type": "stream",
          "text": "+------------+--------------------+--------------------+\n|Abbreviation|                Name|        RowValueHash|\n+------------+--------------------+--------------------+\n|         WAS|  Washington Wizards|8f17f23fb75312b56...|\n|         VAN| Vancouver Grizzlies|d7f90b05d059686aa...|\n|         UTA|           Utah Jazz|7c902bb2e27276e38...|\n|         TOR|     Toronto Raptors|417f4fff4625e3c2d...|\n|         SEA| Seattle SuperSonics|5f3dde5c5e7d7926b...|\n|         SAS|   San Antonio Spurs|e89f51275352e48d9...|\n|         SAC|    Sacramento Kings|04e36c744934d2dbb...|\n|         POR|Portland Trail Bl...|0054c2679f7753beb...|\n|         PHO|        Phoenix Suns|9bf9a5fd18b1063b4...|\n|         PHI|  Philadelphia 76ers|edf03ad3c346f7941...|\n|         ORL|       Orlando Magic|cc72cd00eb9505787...|\n|         OKC|Oklahoma City Thu...|d8ec6878976ac9c12...|\n|         NYK|     New York Knicks|6a36e386117ede8ea...|\n|         NOK|New Orleans/Oklah...|ffdb6339526d63087...|\n|         NOP|New Orleans Pelicans|6c595835c85bf8e1c...|\n|         NOH| New Orleans Hornets|c0d75b163adb9e926...|\n|         NJN|     New Jersey Nets|f0d03190c5d27f343...|\n|         MIN|Minnesota Timberw...|fdae71fa88c68b3d3...|\n|         MIL|     Milwaukee Bucks|14682ef45c4d2dd3b...|\n|         MIA|          Miami Heat|26bb4dc5722f3cdef...|\n+------------+--------------------+--------------------+\nonly showing top 20 rows\n\n",
          "name": "stdout"
        }
      ]
    }
  ],
  "metadata": {
    "kernelspec": {
      "name": "python36",
      "display_name": "Python 3.6",
      "language": "python"
    },
    "language_info": {
      "mimetype": "text/x-python",
      "nbconvert_exporter": "python",
      "name": "python",
      "pygments_lexer": "ipython3",
      "version": "3.6.6",
      "file_extension": ".py",
      "codemirror_mode": {
        "version": 3,
        "name": "ipython"
      }
    }
  },
  "nbformat": 4,
  "nbformat_minor": 1
}